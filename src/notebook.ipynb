{
 "cells": [
  {
   "cell_type": "markdown",
   "metadata": {},
   "source": [
    "### STARTUP\n",
    "In order to take a pdf's text and transform it into a hierarchy of topics, you only need to initialize a Destructor object\n",
    "using the relative path to the pdf, and the rest is magic"
   ]
  },
  {
   "cell_type": "code",
   "execution_count": 1,
   "metadata": {},
   "outputs": [],
   "source": [
    "from destructor import Deconstructor as pdfdestructor\n",
    "\n",
    "# load the pdf into memory and parse it [set start page and initial heading level if needed]\n",
    "# ! Due to a bug, you need to manually specify the level of the highest level (title is 1, heading 1 is 2, etc)\n",
    "text = pdfdestructor(\"test.pdf\", start_page = 0, heading_level = 1)"
   ]
  },
  {
   "cell_type": "code",
   "execution_count": 2,
   "metadata": {},
   "outputs": [
    {
     "name": "stdout",
     "output_type": "stream",
     "text": [
      "[{'title': 'Heading 1', 'content': '\\nHi, im the first header', 'subsections': [{'title': 'Heading 2', 'content': '\\nHi, im the 2[nd] header\\n[https://youtu.be/GJDNkVDGM_s?si=8qFrQmmqy0yTGnyk](https://youtu.be/GJDNkVDGM_s?si=8qFrQmmqy0yTGnyk)\\n[https://youtu.be/GJDNkVDGM_s?si=8qFrQmmqy0yTGnyk](https://youtu.be/GJDNkVDGM_s?si=8qFrQmmqy0yTGnyk)\\ngoodbye', 'subsections': [{'title': 'Heading 3', 'content': '\\nHello, I am the 3[rd] header\\nSee ya', 'subsections': [], 'links': []}], 'links': ['https://youtu.be/GJDNkVDGM_s?si=8qFrQmmqy0yTGnyk](https://youtu.be/GJDNkVDGM_s?si=8qFrQmmqy0yTGnyk)', 'https://youtu.be/GJDNkVDGM_s?si=8qFrQmmqy0yTGnyk](https://youtu.be/GJDNkVDGM_s?si=8qFrQmmqy0yTGnyk)']}, {'title': 'Heading 2', 'content': '\\nThe second 2[nd] header\\nBye', 'subsections': [], 'links': []}], 'links': ['https://youtu.be/GJDNkVDGM_s?si=8qFrQmmqy0yTGnyk](https://youtu.be/GJDNkVDGM_s?si=8qFrQmmqy0yTGnyk)', 'https://youtu.be/GJDNkVDGM_s?si=8qFrQmmqy0yTGnyk](https://youtu.be/GJDNkVDGM_s?si=8qFrQmmqy0yTGnyk)']}, {'title': 'Heading 1', 'content': '\\nUhuh', 'subsections': [], 'links': []}, {'title': 'Heading 1', 'content': '\\nhttps://youtu.be/GJDNkVDGM_s?si=8qFrQmmqy0yTGnyk', 'subsections': [], 'links': ['https://youtu.be/GJDNkVDGM_s?si=8qFrQmmqy0yTGnyk']}]\n"
     ]
    }
   ],
   "source": [
    "# the hierarchy looks like this\n",
    "# each element has 4 properties: title, content, subsections, and links\n",
    "print(text.content)"
   ]
  },
  {
   "cell_type": "markdown",
   "metadata": {},
   "source": [
    "### Contents\n",
    "To access the content of a topic, no matter how deep, access its \"content\" key"
   ]
  },
  {
   "cell_type": "code",
   "execution_count": 3,
   "metadata": {},
   "outputs": [
    {
     "name": "stdout",
     "output_type": "stream",
     "text": [
      "\n",
      "Hi, im the first header\n"
     ]
    }
   ],
   "source": [
    "# content of the first heading 1 \n",
    "print(text.content[0][\"content\"])"
   ]
  },
  {
   "cell_type": "markdown",
   "metadata": {},
   "source": [
    "### SUBCONTENTS\n",
    "everything is inside something in this hierarchy, except the top level headings\n",
    "\n"
   ]
  },
  {
   "cell_type": "code",
   "execution_count": 4,
   "metadata": {},
   "outputs": [
    {
     "name": "stdout",
     "output_type": "stream",
     "text": [
      "Heading 1\n",
      "Heading 1\n",
      "Heading 1\n"
     ]
    }
   ],
   "source": [
    "# here are the top level headings\n",
    "for elem in text.content:\n",
    "    print(elem[\"title\"])"
   ]
  },
  {
   "cell_type": "code",
   "execution_count": 5,
   "metadata": {},
   "outputs": [
    {
     "name": "stdout",
     "output_type": "stream",
     "text": [
      "Heading 2\n",
      "Heading 2\n"
     ]
    }
   ],
   "source": [
    "# and here are the elements inside the first heading 1\n",
    "# TODO implement perhaps a tree function to display the entire hierarchy, with all the subelements of subelements of subelements of subele...\n",
    "for elem in text.content[0][\"subsections\"]:\n",
    "    print(elem[\"title\"])"
   ]
  },
  {
   "cell_type": "markdown",
   "metadata": {},
   "source": [
    "### LINKS\n",
    "accessing links is easy, if header 1 contains a header 2 that contains a link, the link can be accessed via text.content[header1_id][\"subsections\"][header2_id][\"links\"]\n",
    "or via text.content[header1_id][\"links\"]\n"
   ]
  },
  {
   "cell_type": "code",
   "execution_count": 6,
   "metadata": {},
   "outputs": [
    {
     "name": "stdout",
     "output_type": "stream",
     "text": [
      "['https://youtu.be/GJDNkVDGM_s?si=8qFrQmmqy0yTGnyk](https://youtu.be/GJDNkVDGM_s?si=8qFrQmmqy0yTGnyk)', 'https://youtu.be/GJDNkVDGM_s?si=8qFrQmmqy0yTGnyk](https://youtu.be/GJDNkVDGM_s?si=8qFrQmmqy0yTGnyk)']\n"
     ]
    }
   ],
   "source": [
    "#! Link parsing needs a little touch up\n",
    "# access the links inside header 2\n",
    "print(text.content[0][\"subsections\"][0][\"links\"])"
   ]
  },
  {
   "cell_type": "code",
   "execution_count": 7,
   "metadata": {},
   "outputs": [
    {
     "name": "stdout",
     "output_type": "stream",
     "text": [
      "['https://youtu.be/GJDNkVDGM_s?si=8qFrQmmqy0yTGnyk](https://youtu.be/GJDNkVDGM_s?si=8qFrQmmqy0yTGnyk)', 'https://youtu.be/GJDNkVDGM_s?si=8qFrQmmqy0yTGnyk](https://youtu.be/GJDNkVDGM_s?si=8qFrQmmqy0yTGnyk)']\n"
     ]
    }
   ],
   "source": [
    "# and access the same links via header 1\n",
    "print(text.content[0][\"links\"])"
   ]
  },
  {
   "cell_type": "code",
   "execution_count": 8,
   "metadata": {},
   "outputs": [
    {
     "name": "stdout",
     "output_type": "stream",
     "text": [
      "['https://youtu.be/GJDNkVDGM_s?si=8qFrQmmqy0yTGnyk](https://youtu.be/GJDNkVDGM_s?si=8qFrQmmqy0yTGnyk)', 'https://youtu.be/GJDNkVDGM_s?si=8qFrQmmqy0yTGnyk](https://youtu.be/GJDNkVDGM_s?si=8qFrQmmqy0yTGnyk)', 'https://youtu.be/GJDNkVDGM_s?si=8qFrQmmqy0yTGnyk']\n"
     ]
    }
   ],
   "source": [
    "# all the links in a document can be accesed via Destructor.links, which holds the \"global\" links\n",
    "print(text.links)"
   ]
  },
  {
   "cell_type": "markdown",
   "metadata": {},
   "source": [
    "### Misc\n",
    "There are some functions left over that are either deprecated or very specific, but could be useful"
   ]
  },
  {
   "cell_type": "code",
   "execution_count": 9,
   "metadata": {},
   "outputs": [
    {
     "name": "stdout",
     "output_type": "stream",
     "text": [
      "Help on function feed_links in module destructor:\n",
      "\n",
      "feed_links(self) -> collections.abc.Generator[str]\n",
      "    Provide a link for web scraping\n",
      "    \n",
      "    Yields:\n",
      "        Generator[str]: link for web scraper\n",
      "\n",
      "-----------------------\n",
      "Help on function feed_pages in module destructor:\n",
      "\n",
      "feed_pages(self) -> collections.abc.Generator[str]\n",
      "    Provide a page for LLM processing\n",
      "    \n",
      "    Yields:\n",
      "        Generator[str]: text for the LLM\n",
      "\n",
      "-----------------------\n",
      "Help on function feed_topic in module destructor:\n",
      "\n",
      "feed_topic(self, max_lines: int) -> collections.abc.Generator[str]\n",
      "    Provide a topic for LLM processing. If a topic is too big,\n",
      "    it will get split into separate chunks\n",
      "    \n",
      "    Args:\n",
      "        max_lines (int): number of maximum lines allowed\n",
      "    \n",
      "    Yields:\n",
      "        str: text for LLM\n",
      "\n"
     ]
    }
   ],
   "source": [
    "help(pdfdestructor.feed_links)\n",
    "print(\"-----------------------\")\n",
    "help(pdfdestructor.feed_pages)\n",
    "print(\"-----------------------\")\n",
    "help(pdfdestructor.feed_topic)"
   ]
  }
 ],
 "metadata": {
  "kernelspec": {
   "display_name": "pdf-deconstructor-wSttDSB--py3.11",
   "language": "python",
   "name": "python3"
  },
  "language_info": {
   "codemirror_mode": {
    "name": "ipython",
    "version": 3
   },
   "file_extension": ".py",
   "mimetype": "text/x-python",
   "name": "python",
   "nbconvert_exporter": "python",
   "pygments_lexer": "ipython3",
   "version": "3.11.9"
  }
 },
 "nbformat": 4,
 "nbformat_minor": 2
}
